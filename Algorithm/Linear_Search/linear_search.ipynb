{
 "cells": [
  {
   "cell_type": "code",
   "execution_count": null,
   "metadata": {},
   "outputs": [],
   "source": [
    "def linear_search(arr, x):\n",
    "    for i in range(len(arr)):\n",
    "        if arr[i] == x:\n",
    "            return i\n",
    "    return -1\n",
    "\n",
    "# Test the function\n",
    "arr = [300, 200, 100, 10, 20, 30, 40, 50, 60]\n",
    "x = 30\n",
    "\n",
    "index = linear_search(arr, x)\n",
    "\n",
    "if index!= -1:\n",
    "    print(\"Element is present at index\", str(index))\n",
    "else:\n",
    "    print(\"Element is not present in array\")"
   ]
  }
 ],
 "metadata": {
  "language_info": {
   "name": "python"
  }
 },
 "nbformat": 4,
 "nbformat_minor": 2
}
