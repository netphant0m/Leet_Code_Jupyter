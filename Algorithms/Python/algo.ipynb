{
 "cells": [
  {
   "cell_type": "markdown",
   "metadata": {},
   "source": [
    "Linear search is a simple searching algorithm that sequentially checks each element in a list or array until the desired value is found or the end of the list is reached. It is a basic search algorithm that checks every element in the list until it finds the target value."
   ]
  },
  {
   "cell_type": "code",
   "execution_count": 1,
   "metadata": {},
   "outputs": [
    {
     "name": "stdout",
     "output_type": "stream",
     "text": [
      "Element is present at index 6\n"
     ]
    }
   ],
   "source": [
    "def linear_search(arr, x):\n",
    "    for i in range(len(arr)):\n",
    "        if arr[i] == x:\n",
    "            return i\n",
    "    return -1\n",
    "\n",
    "# Test the function\n",
    "arr = [10, 20, 80, 30, 60, 50, 110, 100, 130, 170]\n",
    "x = 110\n",
    "\n",
    "index = linear_search(arr, x)\n",
    "\n",
    "if index!= -1:\n",
    "    print(\"Element is present at index\", str(index))\n",
    "else:\n",
    "    print(\"Element is not present in array\")"
   ]
  },
  {
   "cell_type": "markdown",
   "metadata": {},
   "source": [
    "Binary search is a search algorithm that is used to find a specific element in a sorted array or list. It works by repeatedly dividing the search interval in half, until the target value is found or the interval is empty."
   ]
  },
  {
   "cell_type": "code",
   "execution_count": 3,
   "metadata": {},
   "outputs": [
    {
     "name": "stdout",
     "output_type": "stream",
     "text": [
      "Element is present at index 2\n"
     ]
    }
   ],
   "source": [
    "def binary_search(arr, target):\n",
    "    low = 0\n",
    "    high = len(arr) - 1\n",
    "\n",
    "    while low <= high:\n",
    "        mid = (low + high) // 2\n",
    "        guess = arr[mid]\n",
    "\n",
    "        if guess == target:\n",
    "            return mid\n",
    "        elif guess > target:\n",
    "            high = mid - 1\n",
    "        else:\n",
    "            low = mid + 1\n",
    "\n",
    "    return -1\n",
    "arr = [300, 200, 100, 10, 20, 30, 40, 50, 60]\n",
    "target = 100\n",
    "index = linear_search(arr, target)\n",
    "if index!= -1:\n",
    "    print(\"Element is present at index\", str(index))\n",
    "else:\n",
    "    print(\"Element is not present in array\")"
   ]
  },
  {
   "cell_type": "markdown",
   "metadata": {},
   "source": [
    "Linked sort is a sorting algorithm that is used to sort a linked list in ascending or descending order. It works by repeatedly swapping adjacent elements in the list until the list is sorted."
   ]
  },
  {
   "cell_type": "code",
   "execution_count": 2,
   "metadata": {},
   "outputs": [
    {
     "name": "stdout",
     "output_type": "stream",
     "text": [
      "Original list:\n",
      "5 2 8 3 1 6 4 \n",
      "Sorted list:\n",
      "1 2 3 4 5 6 8 \n"
     ]
    }
   ],
   "source": [
    "class Node:\n",
    "    def __init__(self, data):\n",
    "        self.data = data\n",
    "        self.next = None\n",
    "\n",
    "class LinkedList:\n",
    "    def __init__(self):\n",
    "        self.head = None\n",
    "\n",
    "    def append(self, data):\n",
    "        new_node = Node(data)\n",
    "        if not self.head:\n",
    "            self.head = new_node\n",
    "        else:\n",
    "            current = self.head\n",
    "            while current.next:\n",
    "                current = current.next\n",
    "            current.next = new_node\n",
    "\n",
    "    def sort(self):\n",
    "        current = self.head\n",
    "        while current:\n",
    "            next_node = current.next\n",
    "            while next_node:\n",
    "                if current.data > next_node.data:\n",
    "                    current.data, next_node.data = next_node.data, current.data\n",
    "                next_node = next_node.next\n",
    "            current = current.next\n",
    "\n",
    "    def print_list(self):\n",
    "        current = self.head\n",
    "        while current:\n",
    "            print(current.data, end=\" \")\n",
    "            current = current.next\n",
    "        print()\n",
    "\n",
    "# Create a linked list\n",
    "ll = LinkedList()\n",
    "ll.append(5)\n",
    "ll.append(2)\n",
    "ll.append(8)\n",
    "ll.append(3)\n",
    "ll.append(1)\n",
    "ll.append(6)\n",
    "ll.append(4)\n",
    "\n",
    "# Print the original list\n",
    "print(\"Original list:\")\n",
    "ll.print_list()\n",
    "\n",
    "# Sort the list\n",
    "ll.sort()\n",
    "\n",
    "# Print the sorted list\n",
    "print(\"Sorted list:\")\n",
    "ll.print_list()"
   ]
  }
 ],
 "metadata": {
  "kernelspec": {
   "display_name": "Python 3",
   "language": "python",
   "name": "python3"
  },
  "language_info": {
   "codemirror_mode": {
    "name": "ipython",
    "version": 3
   },
   "file_extension": ".py",
   "mimetype": "text/x-python",
   "name": "python",
   "nbconvert_exporter": "python",
   "pygments_lexer": "ipython3",
   "version": "3.10.13"
  }
 },
 "nbformat": 4,
 "nbformat_minor": 2
}
