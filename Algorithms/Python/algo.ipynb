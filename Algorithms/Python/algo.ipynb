{
 "cells": [
  {
   "cell_type": "markdown",
   "metadata": {},
   "source": [
    "Linear search is a simple searching algorithm that sequentially checks each element in a list or array until the desired value is found or the end of the list is reached. It is a basic search algorithm that checks every element in the list until it finds the target value."
   ]
  },
  {
   "cell_type": "code",
   "execution_count": 1,
   "metadata": {},
   "outputs": [
    {
     "name": "stdout",
     "output_type": "stream",
     "text": [
      "Element is present at index 6\n"
     ]
    }
   ],
   "source": [
    "def linear_search(arr, x):\n",
    "    for i in range(len(arr)):\n",
    "        if arr[i] == x:\n",
    "            return i\n",
    "    return -1\n",
    "\n",
    "# Test the function\n",
    "arr = [10, 20, 80, 30, 60, 50, 110, 100, 130, 170]\n",
    "x = 110\n",
    "\n",
    "index = linear_search(arr, x)\n",
    "\n",
    "if index!= -1:\n",
    "    print(\"Element is present at index\", str(index))\n",
    "else:\n",
    "    print(\"Element is not present in array\")"
   ]
  }
 ],
 "metadata": {
  "kernelspec": {
   "display_name": "Python 3",
   "language": "python",
   "name": "python3"
  },
  "language_info": {
   "codemirror_mode": {
    "name": "ipython",
    "version": 3
   },
   "file_extension": ".py",
   "mimetype": "text/x-python",
   "name": "python",
   "nbconvert_exporter": "python",
   "pygments_lexer": "ipython3",
   "version": "3.10.13"
  }
 },
 "nbformat": 4,
 "nbformat_minor": 2
}
